{
 "cells": [
  {
   "cell_type": "code",
   "execution_count": null,
   "id": "featured-demographic",
   "metadata": {},
   "outputs": [],
   "source": []
  },
  {
   "cell_type": "code",
   "execution_count": 2,
   "id": "recorded-creature",
   "metadata": {},
   "outputs": [],
   "source": [
    "# ログ用\n",
    "from logging import Logger, Handler, getLogger, StreamHandler, Formatter, DEBUG, INFO, WARN\n",
    "class KabuSLogger:\n",
    "    # VERBOSE = DEBUG / 2\n",
    "    def __init__(self, loggername: str=__name__,\n",
    "                loglevel_logger: int=DEBUG):\n",
    "        self._logger_name = loggername\n",
    "        self._loglevel_logger = loglevel_logger\n",
    "        self._logger = self.logger\n",
    "    \n",
    "    @property\n",
    "    def logger(self) -> Logger:\n",
    "        if '_logger' in globals():\n",
    "            return self._logger\n",
    "        logger = getLogger(self._logger_name)\n",
    "        logger.setLevel(self._loglevel_logger)\n",
    "        logger.propagate = False\n",
    "        return logger\n",
    "    \n",
    "    def addHandler(self, handler: Handler):\n",
    "        self.logger.addHandler(handler)\n",
    "        \n",
    "    # def verbose(self, msg, *args, **kwargs):\n",
    "    #     self.log(self.VERBOSE, msg, args, kwargs)\n",
    "        \n",
    "    def debug(self, msg, **kwargs):\n",
    "        self.log(DEBUG, msg, **kwargs)\n",
    "        \n",
    "    def info(self, msg, **kwargs):\n",
    "        self.log(INFO, msg, **kwargs)\n",
    "        \n",
    "    def warn(self, msg, **kwargs):\n",
    "        self.log(WARN, msg, **kwargs)\n",
    "        \n",
    "    def log(self, level, msg, **kwargs):\n",
    "        if kwargs:\n",
    "            self._logger.log(level, msg, **kwargs)\n",
    "        else:\n",
    "            self._logger.log(level, msg)\n"
   ]
  },
  {
   "cell_type": "code",
   "execution_count": 4,
   "id": "divided-cleanup",
   "metadata": {},
   "outputs": [
    {
     "name": "stderr",
     "output_type": "stream",
     "text": [
      "[INFO] test\n"
     ]
    }
   ],
   "source": [
    "if __name__ == '__main__':\n",
    "    from kabu_s_handler import KabuSHandler\n",
    "    handler = KabuSHandler()\n",
    "    logger = KabuSLogger(__name__)\n",
    "    logger.addHandler(handler)\n",
    "    logger.debug('test')\n",
    "    logger.info('test')"
   ]
  },
  {
   "cell_type": "code",
   "execution_count": null,
   "id": "running-gambling",
   "metadata": {},
   "outputs": [],
   "source": []
  }
 ],
 "metadata": {
  "kernelspec": {
   "display_name": "Python 3",
   "language": "python",
   "name": "python3"
  },
  "language_info": {
   "codemirror_mode": {
    "name": "ipython",
    "version": 3
   },
   "file_extension": ".py",
   "mimetype": "text/x-python",
   "name": "python",
   "nbconvert_exporter": "python",
   "pygments_lexer": "ipython3",
   "version": "3.8.6"
  },
  "toc": {
   "base_numbering": 1,
   "nav_menu": {},
   "number_sections": true,
   "sideBar": true,
   "skip_h1_title": false,
   "title_cell": "Table of Contents",
   "title_sidebar": "Contents",
   "toc_cell": false,
   "toc_position": {},
   "toc_section_display": true,
   "toc_window_display": false
  },
  "varInspector": {
   "cols": {
    "lenName": 16,
    "lenType": 16,
    "lenVar": 40
   },
   "kernels_config": {
    "python": {
     "delete_cmd_postfix": "",
     "delete_cmd_prefix": "del ",
     "library": "var_list.py",
     "varRefreshCmd": "print(var_dic_list())"
    },
    "r": {
     "delete_cmd_postfix": ") ",
     "delete_cmd_prefix": "rm(",
     "library": "var_list.r",
     "varRefreshCmd": "cat(var_dic_list()) "
    }
   },
   "types_to_exclude": [
    "module",
    "function",
    "builtin_function_or_method",
    "instance",
    "_Feature"
   ],
   "window_display": false
  }
 },
 "nbformat": 4,
 "nbformat_minor": 5
}
