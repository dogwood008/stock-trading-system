{
 "cells": [
  {
   "cell_type": "code",
   "execution_count": null,
   "id": "alleged-necessity",
   "metadata": {},
   "outputs": [],
   "source": []
  },
  {
   "cell_type": "code",
   "execution_count": 10,
   "id": "christian-champion",
   "metadata": {},
   "outputs": [],
   "source": [
    "from logging import DEBUG\n",
    "from backtrader.feed import DataBase\n",
    "from backtrader.utils.py3 import with_metaclass\n",
    "\n",
    "from meta_kabu_s_data import MetaKabuSData\n",
    "from kabu_s_logger import KabuSLogger\n",
    "\n",
    "class KabuSData(with_metaclass(MetaKabuSData, DataBase)): # FIXME\n",
    "    def __init__(self, *args, **kwargs):\n",
    "        if 'handler' in kwargs:\n",
    "            logger = KabuSLogger(__class__.__name__, DEBUG)\n",
    "            logger.debug(args)\n",
    "            logger.debug(kwargs)\n",
    "            logger.debug(f'{__class__.__name__} called.')\n",
    "            logger.addHandler(kwargs['handler'])"
   ]
  },
  {
   "cell_type": "code",
   "execution_count": 13,
   "id": "prerequisite-cleaning",
   "metadata": {},
   "outputs": [
    {
     "name": "stderr",
     "output_type": "stream",
     "text": [
      "[DEBUG] ()\n",
      "[DEBUG] {'handler': <KabuSHandler stderr (DEBUG)>}\n",
      "[DEBUG] KabuSData called.\n"
     ]
    }
   ],
   "source": [
    "if __name__ == '__main__':\n",
    "    from kabu_s_handler import KabuSHandler\n",
    "    handler = KabuSHandler(DEBUG)\n",
    "    kabu_s_data = KabuSData(handler=handler)"
   ]
  },
  {
   "cell_type": "code",
   "execution_count": null,
   "id": "supported-sympathy",
   "metadata": {},
   "outputs": [],
   "source": []
  }
 ],
 "metadata": {
  "kernelspec": {
   "display_name": "Python 3",
   "language": "python",
   "name": "python3"
  },
  "language_info": {
   "codemirror_mode": {
    "name": "ipython",
    "version": 3
   },
   "file_extension": ".py",
   "mimetype": "text/x-python",
   "name": "python",
   "nbconvert_exporter": "python",
   "pygments_lexer": "ipython3",
   "version": "3.8.6"
  },
  "toc": {
   "base_numbering": 1,
   "nav_menu": {},
   "number_sections": true,
   "sideBar": true,
   "skip_h1_title": false,
   "title_cell": "Table of Contents",
   "title_sidebar": "Contents",
   "toc_cell": false,
   "toc_position": {},
   "toc_section_display": true,
   "toc_window_display": false
  },
  "varInspector": {
   "cols": {
    "lenName": 16,
    "lenType": 16,
    "lenVar": 40
   },
   "kernels_config": {
    "python": {
     "delete_cmd_postfix": "",
     "delete_cmd_prefix": "del ",
     "library": "var_list.py",
     "varRefreshCmd": "print(var_dic_list())"
    },
    "r": {
     "delete_cmd_postfix": ") ",
     "delete_cmd_prefix": "rm(",
     "library": "var_list.r",
     "varRefreshCmd": "cat(var_dic_list()) "
    }
   },
   "types_to_exclude": [
    "module",
    "function",
    "builtin_function_or_method",
    "instance",
    "_Feature"
   ],
   "window_display": false
  }
 },
 "nbformat": 4,
 "nbformat_minor": 5
}
